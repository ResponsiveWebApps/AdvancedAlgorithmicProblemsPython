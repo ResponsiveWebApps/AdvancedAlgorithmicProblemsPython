{
  "nbformat": 4,
  "nbformat_minor": 0,
  "metadata": {
    "colab": {
      "name": "AdvancedAlgorithmicProblemsPython.ipynb",
      "provenance": [],
      "collapsed_sections": [],
      "authorship_tag": "ABX9TyMuQR4yFQwViBrtdBQVGUQM",
      "include_colab_link": true
    },
    "kernelspec": {
      "name": "python3",
      "display_name": "Python 3"
    }
  },
  "cells": [
    {
      "cell_type": "markdown",
      "metadata": {
        "id": "view-in-github",
        "colab_type": "text"
      },
      "source": [
        "<a href=\"https://colab.research.google.com/github/ResponsiveWebApps/AdvancedAlgorithmicProblemsPython/blob/master/AdvancedAlgorithmicProblemsPython.ipynb\" target=\"_parent\"><img src=\"https://colab.research.google.com/assets/colab-badge.svg\" alt=\"Open In Colab\"/></a>"
      ]
    },
    {
      "cell_type": "markdown",
      "metadata": {
        "id": "zgDN5kmHTJdr"
      },
      "source": [
        "***Advanced Algorithmic Problems in Python***"
      ]
    },
    {
      "cell_type": "markdown",
      "metadata": {
        "id": "zhZ56kbmU2nD"
      },
      "source": [
        "Collecting an example of advanced algorithmic problems in Python. These are examples of possible problems that may be asked during an interview for a Python developer. \n",
        "\n",
        "A beginer developer learns the basics, an intermediate developer can follow tutorials to solve problems, an advanced developer can solve problems in their head."
      ]
    },
    {
      "cell_type": "markdown",
      "metadata": {
        "id": "lXwR-OCuTS2n"
      },
      "source": [
        "**Find binary gap of integer**\n",
        "\n",
        "Random integer N, is coverered into binary form. The number of '0' inbetween two '1' is called the binary gap. \n",
        "\n",
        "Examples:\n",
        "'10001' has a binary gap of 3.\n",
        "'00100' has a binary gap of 0.\n",
        "\n",
        "Find the maximum binary gap of integer N.\n",
        "\n",
        "\n"
      ]
    },
    {
      "cell_type": "code",
      "metadata": {
        "id": "MO9PoXsHPWm3"
      },
      "source": [
        "def solution(N):\n",
        "    bin =\"{0:b}\".format(N)\n",
        "    y = 0\n",
        "    gap = 0\n",
        "    max_gap = 0\n",
        "    for i in bin:\n",
        "        if(i == '1' and y == 1 and gap > max_gap):\n",
        "            max_gap = gap\n",
        "        elif(y == 1 and i == '0'):\n",
        "            gap += 1\n",
        "        if(i == '1'):\n",
        "            y = 1\n",
        "            gap = 0  \n",
        "    return max_gap\n",
        "    pass"
      ],
      "execution_count": 3,
      "outputs": []
    }
  ]
}